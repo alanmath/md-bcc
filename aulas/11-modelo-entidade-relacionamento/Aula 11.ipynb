{
 "cells": [
  {
   "cell_type": "markdown",
   "id": "ba6c1d66",
   "metadata": {},
   "source": [
    "# Aula 11\n",
    "\n",
    "## Task: Modelo Entidade-Relacionamento\n",
    "\n",
    "Nesta dinâmica, nosso objetivo será construir uma proposta que modele informações do domínio de aplicação, provendo uma representação conceitual que irá guiar a produção de uma solução, utilizando os conceitos de Modelo Entidade-Relacionamento vistos na expositiva.\n",
    "\n",
    "**Atividade:** Encontre um(a) colega para ser sua **dupla**. Teremos dois papeis nesta dinâmica, o **cliente** e o **engenheiro**. O **cliente** terá atuação principal na especificação do problema e seus requisitos, enquanto o **engenheiro** atuará principalmente no desenho do modelo.\n",
    "\n",
    "Preencha os nomes abaixo:"
   ]
  },
  {
   "cell_type": "markdown",
   "id": "30c4869c",
   "metadata": {},
   "source": [
    "**Cliente**: `FERNANDO SANTOS`\n",
    "\n",
    "**Engenheiro**: `ALAN MATHEUS`"
   ]
  },
  {
   "cell_type": "markdown",
   "id": "832eb313",
   "metadata": {},
   "source": [
    "**Atividade**: Para quem estiver fazendo o papel de cliente...\n",
    "\n",
    "Identifique alguma área (domínio) no qual consiga pensar em algum **problema** que envolva bases de dados. Ex: cadastro de pokemons, sistema para gerenciar o estoque de uma casa de festas, sistema para gerenciar pontuações de partidas de xadrez, uma base com os parques públicos e os serviços neles disponíveis, etc.\n",
    "\n",
    "Descreva a **área** e o **problema** (pode ser em forma de pergunta) que deseja solucionar."
   ]
  },
  {
   "cell_type": "markdown",
   "id": "8133556f",
   "metadata": {},
   "source": [
    "<div class=\"alert alert-success\">\n",
    " Um sistema para cadastro de uma escola de ensino médio, onde é necessário armazenar informações sobre os professores, alunos, disciplinas e notas.\n",
    "</div>"
   ]
  },
  {
   "cell_type": "markdown",
   "id": "29819f17",
   "metadata": {},
   "source": [
    "**Atividade**: Para quem estiver fazendo o papel de engenheiro...\n",
    "\n",
    "É comum que engenheiros tenham conhecimentos em áreas técnicas mas desconheçam domínios específicos. Faça perguntas que te ajudem a entender melhor o problema proposto pelo cliente. Escreva abaixo alguns exemplos de perguntas realizadas."
   ]
  },
  {
   "cell_type": "markdown",
   "id": "88798c9d",
   "metadata": {},
   "source": [
    "<div class=\"alert alert-success\">\n",
    "\n",
    "- Quais tipos de turmas existem? :  Ensino médio.\n",
    "- Quais as informações do professor? : Nome, CPF, Data de Nascimento, Endereço, Telefone, E-mail, Disciplinas que leciona.\n",
    "- Quais as informações do aluno? : Nome, CPF, Data de nascimento, Registro de aluno, Endereço, Telefone, Email, Telefone dos pais, turma.\n",
    "- Quais as informações da disciplina? : Nome, quantidade de alunos.\n",
    "- Quais as informações dos funcionários? : Nome, cargo, cpf, data de nascimento, endereço, telefone, email, genero.\n",
    "- Sobre a escola em si? : Quantidade de alunos, endereço da escola, nome da escola, cidade, cep, quantidade de salas.\n",
    "\n",
    "</div>"
   ]
  },
  {
   "cell_type": "markdown",
   "id": "b66bb8fa",
   "metadata": {},
   "source": [
    "**Atividade**: Para ambos, engenheiro e cliente...\n",
    "\n",
    "Vocês devem simular uma reunião de trabalho na qual, com base no conhecimento adquirido, seja desenhada uma proposta de **Modelo Entidade-Relacionamento** (conforme as regras nos slides) que seja uma representação conceitual de uma solução para o problema.\n",
    "\n",
    "Lembre-se que seu foco é nos dados e em sua modelagem. Problemas de outras áreas (orientação a objetos, computação em nuvem, tecnologias a serem utilizadas, etc.) devem ser ignorados!\n",
    "\n",
    "De forma iterativa, Repita até produzir uma solução adequada (ou até acabar a \"sprint\"!!!):\n",
    "1) Converse com o cliente e faça perguntas que ajudem a entender requisitos do problema\n",
    "2) Faça o desenho e refinamento do seu modelo em alguma ferramenta de desenho (sugestão: https://excalidraw.com/)\n",
    "3) Apresente ao cliente\n",
    "\n",
    "Cole abaixo apenas a versão final do modelo (como imagem). Caso considere necessário, adicione textos."
   ]
  },
  {
   "cell_type": "markdown",
   "id": "580031ab",
   "metadata": {},
   "source": [
    "<div class=\"alert alert-success\">\n",
    "    <img src=\"atv.jpg\">\n",
    "</div>"
   ]
  },
  {
   "cell_type": "markdown",
   "id": "e1ce0938",
   "metadata": {},
   "source": [
    "**Atividade**: Para ambos, engenheiro e cliente...\n",
    "\n",
    "Julgamento! Como cliente e engenheiro, avaliem a solução proposta. Ela está adequada e implementável?! Quais são os principais valores gerados pela proposta?"
   ]
  },
  {
   "cell_type": "markdown",
   "id": "1cfffef1",
   "metadata": {},
   "source": [
    "<div class=\"alert alert-success\">\n",
    "Engenheiro: Acredito que a solução está adequada, atende todos os requisitos do cliente. Além de propor melhorias em relação a atributos pedidos por ele.\n",
    "\n",
    "Cliente: Achei a solução proposta adequada para solucionar o problema que foi proposto. Acredito que a solução é implementável e atende todos os requisitos que foram pedidos. Acredito que a solucção proposta ajuda a escola a ter um controle maior sobre os alunos, professores e disciplinas.\n",
    "\n",
    "</div>"
   ]
  },
  {
   "cell_type": "markdown",
   "id": "596920ba",
   "metadata": {},
   "source": [
    "**Atividade**: Para qualquer um dos dois, engenheiro ou cliente...\n",
    "\n",
    "Faça o download do notebook (.ipynb ou .pdf) e anexe no Blackboard como resposta. Apenas um deve entregar."
   ]
  },
  {
   "cell_type": "code",
   "execution_count": null,
   "id": "a70540f1",
   "metadata": {},
   "outputs": [],
   "source": []
  },
  {
   "cell_type": "code",
   "execution_count": null,
   "id": "4e0b3cc6",
   "metadata": {},
   "outputs": [],
   "source": [
    "#grade_clear\n",
    "\n",
    "class CollisionNode:\n",
    "    def __init__(self, key, value, prev=None, next=None):\n",
    "        self.key = key\n",
    "        self.value = value\n",
    "        self.prev = prev\n",
    "        self.next = next\n",
    "class HashTable:\n",
    "    def __init__(self, initial_size=1):\n",
    "        self._len = 0\n",
    "        self._hashes = [None]*initial_size\n",
    "        \n",
    "            \n",
    "    def __setitem__(self, key, value):\n",
    "        self.adiciona(key, value)\n",
    "        tam = len(self._hashes)\n",
    "        if tam < self._len*2:\n",
    "            tam *= 2\n",
    "            hashes_antigos = self._hashes\n",
    "            self._hashes =  tam*[None]\n",
    "            self._len = 0\n",
    "            for item in hashes_antigos:\n",
    "                while item:\n",
    "                    self.adiciona(item.key, item.value)\n",
    "                    item = item.next     \n",
    "        return value\n",
    "\n",
    "    def adiciona(self, key,value):\n",
    "        indice = self.get_indice(key)\n",
    "        head = self._hashes[indice]\n",
    "        ant = head\n",
    "        first = True\n",
    "        while head:\n",
    "            if not(first):\n",
    "                ant = ant.next\n",
    "            if head.key == key:\n",
    "                head.value = value\n",
    "                return value\n",
    "            head = head.next\n",
    "            first = False\n",
    "        return value\n",
    "    def get_indice(self, key):\n",
    "        return hash(key) % len(self._hashes)\n",
    "\n",
    "    def __getitem__(self, key):\n",
    "        tamanho_atual_hashes = len(self._hashes)\n",
    "        put_in = hash(key)%tamanho_atual_hashes\n",
    "        if (self._hashes[put_in] != None):\n",
    "            if (self._hashes[put_in].key == key):\n",
    "                return self._hashes[put_in].value\n",
    "            else:\n",
    "                no_atual = self._hashes[put_in]\n",
    "                while(no_atual != None):\n",
    "                    if (no_atual.key == key):\n",
    "                        return no_atual.value\n",
    "                    no_atual = no_atual.next\n",
    "                    if (no_atual == None):\n",
    "                        raise KeyError\n",
    "        else:\n",
    "            raise KeyError\n",
    "\n",
    "\n",
    "\n",
    "\n",
    "    def __delitem__(self, key):\n",
    "        hashed = hash(key)\n",
    "        index = hashed % len(self._hashes)\n",
    "        current_node = self._hashes[index]\n",
    "        while current_node is not None:\n",
    "            if current_node.key == key:\n",
    "                if current_node.prev is not None:\n",
    "                    current_node.prev.next = current_node.next\n",
    "                else:\n",
    "                    self._hashes[index] = current_node.next\n",
    "                if current_node.next is not None:\n",
    "                    current_node.next.prev = current_node.prev\n",
    "                self._len -= 1\n",
    "                return\n",
    "            current_node = current_node.next\n",
    "        raise KeyError(key)\n",
    "\n",
    "\n",
    "    def __len__(self):\n",
    "        return self._len\n",
    "\n",
    "    def __iter__(self):\n",
    "        for node in self._hashes:\n",
    "            current_node = node\n",
    "            while current_node is not None:\n",
    "                yield current_node.key\n",
    "                current_node = current_node.next\n",
    "\n",
    "\n",
    "    def __contains__(self, key):\n",
    "        try:\n",
    "            self[key]\n",
    "            return True\n",
    "        except KeyError:\n",
    "            return False\n",
    "\n"
   ]
  }
 ],
 "metadata": {
  "kernelspec": {
   "display_name": "Python 3 (ipykernel)",
   "language": "python",
   "name": "python3"
  },
  "language_info": {
   "codemirror_mode": {
    "name": "ipython",
    "version": 3
   },
   "file_extension": ".py",
   "mimetype": "text/x-python",
   "name": "python",
   "nbconvert_exporter": "python",
   "pygments_lexer": "ipython3",
   "version": "3.11.3"
  }
 },
 "nbformat": 4,
 "nbformat_minor": 5
}
